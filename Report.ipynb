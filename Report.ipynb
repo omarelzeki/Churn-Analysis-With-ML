{
 "cells": [
  {
   "cell_type": "markdown",
   "id": "0e46f4ae",
   "metadata": {},
   "source": [
    "# Bank Customer Churn Analysis"
   ]
  },
  {
   "cell_type": "markdown",
   "id": "6d3b93b3",
   "metadata": {},
   "source": [
    "This case study is a part of the Google Data Analytics profissional certificate."
   ]
  },
  {
   "cell_type": "markdown",
   "id": "bb6ef584",
   "metadata": {},
   "source": [
    "## Ask:\n",
    "\n",
    "- Problem: <br>\n",
    "It is much more expensive to sign in a new client than keeping an existing one. It is advantageous for banks to know what leads a client towards the decision to leave the company.\n",
    "\n",
    "- Goal: <br>\n",
    "The goal of this analysis is to identify the key reasons and frequency of customers leaving the company, and to explore trends and attempt to find a solution for decreasing customer churn rates. <br>\n",
    "\n",
    "Churn prevention allows companies to develop loyalty programs and retention campaigns to keep as many customers as possible.<br>\n",
    "The dataset used in this case study comes from kaggle, press [here](https://www.kaggle.com/datasets/radheshyamkollipara/bank-customer-churn) for further information.\n"
   ]
  },
  {
   "cell_type": "markdown",
   "id": "70edc247",
   "metadata": {},
   "source": [
    "## Prepare:\n",
    "First, I'll start by importing the necessary libraries for completing this project, then I'll import the data.\n",
    "\n",
    "### Libraries:"
   ]
  },
  {
   "cell_type": "code",
   "execution_count": 1,
   "id": "29de32f2",
   "metadata": {},
   "outputs": [],
   "source": [
    "import pandas as pd\n",
    "import numpy as np\n",
    "import matplotlib.pyplot as plt\n",
    "import seaborn as sns\n",
    "import sklearn as sk\n",
    "from sklearn.preprocessing import OneHotEncoder, normalize\n",
    "from sklearn.cluster import KMeans\n",
    "from sklearn.model_selection import train_test_split\n",
    "import tensorflow as tf\n",
    "from tensorflow.keras.models import Sequential\n",
    "from tensorflow.keras.layers import Dense\n",
    "from tensorflow.keras.activations import relu, sigmoid"
   ]
  },
  {
   "cell_type": "markdown",
   "id": "c989506b",
   "metadata": {},
   "source": [
    "### Data:"
   ]
  },
  {
   "cell_type": "code",
   "execution_count": 2,
   "id": "3dc63cf2",
   "metadata": {},
   "outputs": [
    {
     "data": {
      "text/html": [
       "<div>\n",
       "<style scoped>\n",
       "    .dataframe tbody tr th:only-of-type {\n",
       "        vertical-align: middle;\n",
       "    }\n",
       "\n",
       "    .dataframe tbody tr th {\n",
       "        vertical-align: top;\n",
       "    }\n",
       "\n",
       "    .dataframe thead th {\n",
       "        text-align: right;\n",
       "    }\n",
       "</style>\n",
       "<table border=\"1\" class=\"dataframe\">\n",
       "  <thead>\n",
       "    <tr style=\"text-align: right;\">\n",
       "      <th></th>\n",
       "      <th>CustomerId</th>\n",
       "      <th>CreditScore</th>\n",
       "      <th>Geography</th>\n",
       "      <th>Gender</th>\n",
       "      <th>Age</th>\n",
       "      <th>Tenure</th>\n",
       "      <th>Balance</th>\n",
       "      <th>NumOfProducts</th>\n",
       "      <th>HasCrCard</th>\n",
       "      <th>IsActiveMember</th>\n",
       "      <th>EstimatedSalary</th>\n",
       "      <th>Exited</th>\n",
       "      <th>Complain</th>\n",
       "      <th>Satisfaction Score</th>\n",
       "      <th>Card Type</th>\n",
       "      <th>Point Earned</th>\n",
       "    </tr>\n",
       "  </thead>\n",
       "  <tbody>\n",
       "    <tr>\n",
       "      <th>0</th>\n",
       "      <td>15634602</td>\n",
       "      <td>619</td>\n",
       "      <td>France</td>\n",
       "      <td>Female</td>\n",
       "      <td>42</td>\n",
       "      <td>2</td>\n",
       "      <td>0.00</td>\n",
       "      <td>1</td>\n",
       "      <td>1</td>\n",
       "      <td>1</td>\n",
       "      <td>101348.88</td>\n",
       "      <td>1</td>\n",
       "      <td>1</td>\n",
       "      <td>2</td>\n",
       "      <td>DIAMOND</td>\n",
       "      <td>464</td>\n",
       "    </tr>\n",
       "    <tr>\n",
       "      <th>1</th>\n",
       "      <td>15647311</td>\n",
       "      <td>608</td>\n",
       "      <td>Spain</td>\n",
       "      <td>Female</td>\n",
       "      <td>41</td>\n",
       "      <td>1</td>\n",
       "      <td>83807.86</td>\n",
       "      <td>1</td>\n",
       "      <td>0</td>\n",
       "      <td>1</td>\n",
       "      <td>112542.58</td>\n",
       "      <td>0</td>\n",
       "      <td>1</td>\n",
       "      <td>3</td>\n",
       "      <td>DIAMOND</td>\n",
       "      <td>456</td>\n",
       "    </tr>\n",
       "    <tr>\n",
       "      <th>2</th>\n",
       "      <td>15619304</td>\n",
       "      <td>502</td>\n",
       "      <td>France</td>\n",
       "      <td>Female</td>\n",
       "      <td>42</td>\n",
       "      <td>8</td>\n",
       "      <td>159660.80</td>\n",
       "      <td>3</td>\n",
       "      <td>1</td>\n",
       "      <td>0</td>\n",
       "      <td>113931.57</td>\n",
       "      <td>1</td>\n",
       "      <td>1</td>\n",
       "      <td>3</td>\n",
       "      <td>DIAMOND</td>\n",
       "      <td>377</td>\n",
       "    </tr>\n",
       "    <tr>\n",
       "      <th>3</th>\n",
       "      <td>15701354</td>\n",
       "      <td>699</td>\n",
       "      <td>France</td>\n",
       "      <td>Female</td>\n",
       "      <td>39</td>\n",
       "      <td>1</td>\n",
       "      <td>0.00</td>\n",
       "      <td>2</td>\n",
       "      <td>0</td>\n",
       "      <td>0</td>\n",
       "      <td>93826.63</td>\n",
       "      <td>0</td>\n",
       "      <td>0</td>\n",
       "      <td>5</td>\n",
       "      <td>GOLD</td>\n",
       "      <td>350</td>\n",
       "    </tr>\n",
       "    <tr>\n",
       "      <th>4</th>\n",
       "      <td>15737888</td>\n",
       "      <td>850</td>\n",
       "      <td>Spain</td>\n",
       "      <td>Female</td>\n",
       "      <td>43</td>\n",
       "      <td>2</td>\n",
       "      <td>125510.82</td>\n",
       "      <td>1</td>\n",
       "      <td>1</td>\n",
       "      <td>1</td>\n",
       "      <td>79084.10</td>\n",
       "      <td>0</td>\n",
       "      <td>0</td>\n",
       "      <td>5</td>\n",
       "      <td>GOLD</td>\n",
       "      <td>425</td>\n",
       "    </tr>\n",
       "  </tbody>\n",
       "</table>\n",
       "</div>"
      ],
      "text/plain": [
       "   CustomerId  CreditScore Geography  Gender  Age  Tenure    Balance   \n",
       "0    15634602          619    France  Female   42       2       0.00  \\\n",
       "1    15647311          608     Spain  Female   41       1   83807.86   \n",
       "2    15619304          502    France  Female   42       8  159660.80   \n",
       "3    15701354          699    France  Female   39       1       0.00   \n",
       "4    15737888          850     Spain  Female   43       2  125510.82   \n",
       "\n",
       "   NumOfProducts  HasCrCard  IsActiveMember  EstimatedSalary  Exited   \n",
       "0              1          1               1        101348.88       1  \\\n",
       "1              1          0               1        112542.58       0   \n",
       "2              3          1               0        113931.57       1   \n",
       "3              2          0               0         93826.63       0   \n",
       "4              1          1               1         79084.10       0   \n",
       "\n",
       "   Complain  Satisfaction Score Card Type  Point Earned  \n",
       "0         1                   2   DIAMOND           464  \n",
       "1         1                   3   DIAMOND           456  \n",
       "2         1                   3   DIAMOND           377  \n",
       "3         0                   5      GOLD           350  \n",
       "4         0                   5      GOLD           425  "
      ]
     },
     "execution_count": 2,
     "metadata": {},
     "output_type": "execute_result"
    }
   ],
   "source": [
    "df = pd.read_csv('Customer-Churn-Records.csv')\n",
    "df = df.drop(['RowNumber', 'Surname'], axis = 1)\n",
    "df.head()"
   ]
  },
  {
   "cell_type": "code",
   "execution_count": 3,
   "id": "089b8d04",
   "metadata": {
    "scrolled": false
   },
   "outputs": [
    {
     "name": "stdout",
     "output_type": "stream",
     "text": [
      "<class 'pandas.core.frame.DataFrame'>\n",
      "RangeIndex: 10000 entries, 0 to 9999\n",
      "Data columns (total 16 columns):\n",
      " #   Column              Non-Null Count  Dtype  \n",
      "---  ------              --------------  -----  \n",
      " 0   CustomerId          10000 non-null  int64  \n",
      " 1   CreditScore         10000 non-null  int64  \n",
      " 2   Geography           10000 non-null  object \n",
      " 3   Gender              10000 non-null  object \n",
      " 4   Age                 10000 non-null  int64  \n",
      " 5   Tenure              10000 non-null  int64  \n",
      " 6   Balance             10000 non-null  float64\n",
      " 7   NumOfProducts       10000 non-null  int64  \n",
      " 8   HasCrCard           10000 non-null  int64  \n",
      " 9   IsActiveMember      10000 non-null  int64  \n",
      " 10  EstimatedSalary     10000 non-null  float64\n",
      " 11  Exited              10000 non-null  int64  \n",
      " 12  Complain            10000 non-null  int64  \n",
      " 13  Satisfaction Score  10000 non-null  int64  \n",
      " 14  Card Type           10000 non-null  object \n",
      " 15  Point Earned        10000 non-null  int64  \n",
      "dtypes: float64(2), int64(11), object(3)\n",
      "memory usage: 1.2+ MB\n"
     ]
    }
   ],
   "source": [
    "df.info()"
   ]
  },
  {
   "cell_type": "code",
   "execution_count": 4,
   "id": "323f07b2",
   "metadata": {},
   "outputs": [
    {
     "data": {
      "text/plain": [
       "array(['France', 'Spain', 'Germany'], dtype=object)"
      ]
     },
     "execution_count": 4,
     "metadata": {},
     "output_type": "execute_result"
    }
   ],
   "source": [
    "pd.unique(df['Geography'])"
   ]
  },
  {
   "cell_type": "markdown",
   "id": "dfd0d2a9",
   "metadata": {},
   "source": [
    "Before we move into the actual analysis, I would like to consider the quality of the data. To do that I will use the ROCCC acronym introduced in the google course:\n",
    "- **Reliable**: <br> \n",
    "Unfortunately, little information is provided on the dataset in its Kaggle page. Therefore, we could say its reliability is unkown. \n",
    "- **Original**: <br>\n",
    "The data does seem to have been collected by the bank itself though. So, I would assume it indeed is original.\n",
    "- **Comprehensive**: <br>\n",
    "Based on the data having *10000* records, it seems to be very comprehensive.\n",
    "- **Current**: <br>\n",
    "The data has last been updated on 2022, therefore it isn't current.\n",
    "- **Cited**: <br>\n",
    "As has already been said, the origin of the data is not declared in the Kaggle page, so it is not cited. <br>\n",
    "\n",
    "That would emply that the data's quality isn't great.\n"
   ]
  },
  {
   "cell_type": "markdown",
   "id": "d9cca774",
   "metadata": {},
   "source": [
    "## Process and Analyse:\n",
    "since the data seems to already be clean, it would be unnecessary to have an entire step for processing the data. Therefore, I decided to join processing of the data with the analysis. "
   ]
  },
  {
   "cell_type": "markdown",
   "id": "426b93ec",
   "metadata": {},
   "source": [
    "Our key metric will be churn rate in %. This will be messured over different geographic locations and for customers who had different experiences with the bank."
   ]
  },
  {
   "cell_type": "code",
   "execution_count": 5,
   "id": "1294ac30",
   "metadata": {},
   "outputs": [
    {
     "name": "stdout",
     "output_type": "stream",
     "text": [
      "The total churn rate is:  20.4 %\n"
     ]
    }
   ],
   "source": [
    "TotalChurn = round(np.sum(df['Exited'])/df.shape[0],3)*100\n",
    "print(\"The total churn rate is: \", TotalChurn, \"%\")"
   ]
  },
  {
   "cell_type": "markdown",
   "id": "e3ac9b56",
   "metadata": {},
   "source": [
    "### Geographic analysis"
   ]
  },
  {
   "cell_type": "code",
   "execution_count": 6,
   "id": "5bbf14d0",
   "metadata": {},
   "outputs": [
    {
     "data": {
      "text/html": [
       "<div>\n",
       "<style scoped>\n",
       "    .dataframe tbody tr th:only-of-type {\n",
       "        vertical-align: middle;\n",
       "    }\n",
       "\n",
       "    .dataframe tbody tr th {\n",
       "        vertical-align: top;\n",
       "    }\n",
       "\n",
       "    .dataframe thead th {\n",
       "        text-align: right;\n",
       "    }\n",
       "</style>\n",
       "<table border=\"1\" class=\"dataframe\">\n",
       "  <thead>\n",
       "    <tr style=\"text-align: right;\">\n",
       "      <th></th>\n",
       "      <th>Exited</th>\n",
       "      <th>ChurnRate</th>\n",
       "    </tr>\n",
       "    <tr>\n",
       "      <th>Geography</th>\n",
       "      <th></th>\n",
       "      <th></th>\n",
       "    </tr>\n",
       "  </thead>\n",
       "  <tbody>\n",
       "    <tr>\n",
       "      <th>France</th>\n",
       "      <td>811</td>\n",
       "      <td>16.2</td>\n",
       "    </tr>\n",
       "    <tr>\n",
       "      <th>Germany</th>\n",
       "      <td>814</td>\n",
       "      <td>32.4</td>\n",
       "    </tr>\n",
       "    <tr>\n",
       "      <th>Spain</th>\n",
       "      <td>413</td>\n",
       "      <td>16.7</td>\n",
       "    </tr>\n",
       "  </tbody>\n",
       "</table>\n",
       "</div>"
      ],
      "text/plain": [
       "           Exited  ChurnRate\n",
       "Geography                   \n",
       "France        811       16.2\n",
       "Germany       814       32.4\n",
       "Spain         413       16.7"
      ]
     },
     "execution_count": 6,
     "metadata": {},
     "output_type": "execute_result"
    }
   ],
   "source": [
    "GeographicChurn = df[['Geography', 'Exited']].groupby('Geography').sum()\n",
    "GeographicChurn['ChurnRate']= round(GeographicChurn['Exited']/(df['Geography'].value_counts()),3)*100\n",
    "GeographicChurn"
   ]
  },
  {
   "cell_type": "code",
   "execution_count": 7,
   "id": "a7011621",
   "metadata": {},
   "outputs": [
    {
     "data": {
      "text/html": [
       "<div>\n",
       "<style scoped>\n",
       "    .dataframe tbody tr th:only-of-type {\n",
       "        vertical-align: middle;\n",
       "    }\n",
       "\n",
       "    .dataframe tbody tr th {\n",
       "        vertical-align: top;\n",
       "    }\n",
       "\n",
       "    .dataframe thead th {\n",
       "        text-align: right;\n",
       "    }\n",
       "</style>\n",
       "<table border=\"1\" class=\"dataframe\">\n",
       "  <thead>\n",
       "    <tr style=\"text-align: right;\">\n",
       "      <th></th>\n",
       "      <th>Complain</th>\n",
       "      <th>ComplainFreq</th>\n",
       "    </tr>\n",
       "    <tr>\n",
       "      <th>Geography</th>\n",
       "      <th></th>\n",
       "      <th></th>\n",
       "    </tr>\n",
       "  </thead>\n",
       "  <tbody>\n",
       "    <tr>\n",
       "      <th>France</th>\n",
       "      <td>812</td>\n",
       "      <td>16.2</td>\n",
       "    </tr>\n",
       "    <tr>\n",
       "      <th>Germany</th>\n",
       "      <td>819</td>\n",
       "      <td>32.6</td>\n",
       "    </tr>\n",
       "    <tr>\n",
       "      <th>Spain</th>\n",
       "      <td>413</td>\n",
       "      <td>16.7</td>\n",
       "    </tr>\n",
       "  </tbody>\n",
       "</table>\n",
       "</div>"
      ],
      "text/plain": [
       "           Complain  ComplainFreq\n",
       "Geography                        \n",
       "France          812          16.2\n",
       "Germany         819          32.6\n",
       "Spain           413          16.7"
      ]
     },
     "execution_count": 7,
     "metadata": {},
     "output_type": "execute_result"
    }
   ],
   "source": [
    "GeographicComplain = df[['Geography', 'Complain']].groupby('Geography').sum()\n",
    "GeographicComplain['ComplainFreq'] = round(GeographicComplain['Complain']/df['Geography'].value_counts(),3)*100\n",
    "GeographicComplain"
   ]
  },
  {
   "cell_type": "markdown",
   "id": "a79427c1",
   "metadata": {},
   "source": [
    "Firstly, it is very clear that clients from germany leave the bank far more frequently. The fact that the complain frequency is almost identical to the Churn rate shows a clear relationship. Indicating that clients who complain may not be having their issues resolved."
   ]
  },
  {
   "cell_type": "markdown",
   "id": "ca0ed8c9",
   "metadata": {},
   "source": [
    "### Age & Tenure analysis"
   ]
  },
  {
   "cell_type": "code",
   "execution_count": 8,
   "id": "73a464d7",
   "metadata": {},
   "outputs": [
    {
     "data": {
      "image/png": "[encoded data removed]",
      "text/plain": [
       "<Figure size 640x480 with 1 Axes>"
      ]
     },
     "metadata": {},
     "output_type": "display_data"
    }
   ],
   "source": [
    "AgeChurn = (df[['Age', 'Exited']].groupby('Age').sum())\n",
    "AgeChurn = AgeChurn[AgeChurn['Exited']!=0]\n",
    "AgeChurn['ChurnRate']= round(AgeChurn['Exited']/(df['Age'].value_counts()),3)*100\n",
    "AgeChurn = AgeChurn.reset_index()\n",
    "\n",
    "plt.bar(AgeChurn['Age'],AgeChurn['ChurnRate'])\n",
    "plt.xlabel('Age')\n",
    "plt.ylabel('Churn Rate')\n",
    "plt.title('Churn Rate by Age')\n",
    "plt.show()"
   ]
  },
  {
   "cell_type": "code",
   "execution_count": 9,
   "id": "c7585964",
   "metadata": {},
   "outputs": [
    {
     "data": {
      "image/png": "[encoded data removed]",
      "text/plain": [
       "<Figure size 640x480 with 1 Axes>"
      ]
     },
     "metadata": {},
     "output_type": "display_data"
    }
   ],
   "source": [
    "TenureChurn = (df[['Tenure', 'Exited']].groupby('Tenure').sum())\n",
    "TenureChurn = TenureChurn[TenureChurn['Exited']!=0]\n",
    "TenureChurn['ChurnRate']= round(TenureChurn['Exited']/(df['Tenure'].value_counts()),3)*100\n",
    "TenureChurn = TenureChurn.reset_index()\n",
    "\n",
    "plt.bar(TenureChurn['Tenure'],TenureChurn['ChurnRate'])\n",
    "plt.xlabel('Tenure')\n",
    "plt.ylabel('Churn Rate')\n",
    "plt.title('Churn Rate by Tenure')\n",
    "plt.show()"
   ]
  },
  {
   "cell_type": "markdown",
   "id": "081975e1",
   "metadata": {},
   "source": [
    "We saw that clients between the ages of 40 to 65 left the bank far more often than other age ranges. We also saw that Churn rate isn't affected by tenure."
   ]
  },
  {
   "cell_type": "markdown",
   "id": "cab1ae86",
   "metadata": {},
   "source": [
    "### Behavioral analysis of clients"
   ]
  },
  {
   "cell_type": "markdown",
   "id": "6bcc8907",
   "metadata": {},
   "source": [
    "First we check to see the relationship between a member being active and the churn rate."
   ]
  },
  {
   "cell_type": "code",
   "execution_count": 10,
   "id": "f270df54",
   "metadata": {},
   "outputs": [
    {
     "data": {
      "text/html": [
       "<div>\n",
       "<style scoped>\n",
       "    .dataframe tbody tr th:only-of-type {\n",
       "        vertical-align: middle;\n",
       "    }\n",
       "\n",
       "    .dataframe tbody tr th {\n",
       "        vertical-align: top;\n",
       "    }\n",
       "\n",
       "    .dataframe thead th {\n",
       "        text-align: right;\n",
       "    }\n",
       "</style>\n",
       "<table border=\"1\" class=\"dataframe\">\n",
       "  <thead>\n",
       "    <tr style=\"text-align: right;\">\n",
       "      <th></th>\n",
       "      <th>Exited</th>\n",
       "      <th>ChurnRate</th>\n",
       "    </tr>\n",
       "    <tr>\n",
       "      <th>IsActiveMember</th>\n",
       "      <th></th>\n",
       "      <th></th>\n",
       "    </tr>\n",
       "  </thead>\n",
       "  <tbody>\n",
       "    <tr>\n",
       "      <th>0</th>\n",
       "      <td>1303</td>\n",
       "      <td>26.9</td>\n",
       "    </tr>\n",
       "    <tr>\n",
       "      <th>1</th>\n",
       "      <td>735</td>\n",
       "      <td>14.3</td>\n",
       "    </tr>\n",
       "  </tbody>\n",
       "</table>\n",
       "</div>"
      ],
      "text/plain": [
       "                Exited  ChurnRate\n",
       "IsActiveMember                   \n",
       "0                 1303       26.9\n",
       "1                  735       14.3"
      ]
     },
     "execution_count": 10,
     "metadata": {},
     "output_type": "execute_result"
    }
   ],
   "source": [
    "ActiveChurn = (df[['IsActiveMember', 'Exited']].groupby('IsActiveMember').sum())\n",
    "ActiveChurn = ActiveChurn[ActiveChurn['Exited']!=0]\n",
    "ActiveChurn['ChurnRate']= round(ActiveChurn['Exited']/(df['IsActiveMember'].value_counts()),3)*100\n",
    "ActiveChurn"
   ]
  },
  {
   "cell_type": "markdown",
   "id": "61240be1",
   "metadata": {},
   "source": [
    "It is clear that inactive members are twice as likely to leave the bank."
   ]
  },
  {
   "cell_type": "markdown",
   "id": "1a18e83b",
   "metadata": {},
   "source": [
    "Now, we will check to see if there is any relationship between the number of products owned by a member and the frequency of members leaving the bank."
   ]
  },
  {
   "cell_type": "code",
   "execution_count": 11,
   "id": "24457fba",
   "metadata": {},
   "outputs": [
    {
     "data": {
      "image/png": "[encoded data removed]",
      "text/plain": [
       "<Figure size 640x480 with 1 Axes>"
      ]
     },
     "metadata": {},
     "output_type": "display_data"
    }
   ],
   "source": [
    "ProdChurn = (df[['NumOfProducts', 'Exited']].groupby('NumOfProducts').sum())\n",
    "ProdChurn['ChurnRate']= round(ProdChurn['Exited']/(df['NumOfProducts'].value_counts()),3)*100\n",
    "ProdChurn = ProdChurn.reset_index()\n",
    "\n",
    "plt.bar(ProdChurn['NumOfProducts'],ProdChurn['ChurnRate'])\n",
    "plt.xlabel('Number Of Products')\n",
    "plt.ylabel('Churn Rate')\n",
    "plt.title('Churn Rate by Number of Products Owned')\n",
    "plt.show()"
   ]
  },
  {
   "cell_type": "markdown",
   "id": "092ebe77",
   "metadata": {},
   "source": [
    "It seems that about a third of clients with one product leave the bank. On the other hand, less than a tenth of clients with two products leave the bank. That may be because clients with a single product are less dependent on the services of the bank than those with two products. <br>\n",
    "The Churn rate of customers with 3 and 4 products, however, is surprisingly high. That might be due to these products being underdeveloped or perhaps the clients don't want to be buying 3 or 4 different products and would rather buy a single one. Eitherway, more information is required to find this out."
   ]
  },
  {
   "cell_type": "markdown",
   "id": "97e0bdf2",
   "metadata": {},
   "source": [
    "### Advanced Analysis of the set"
   ]
  },
  {
   "cell_type": "markdown",
   "id": "53df0788",
   "metadata": {},
   "source": [
    "First, I will one-hot encode our catigorical feilds and drop the necessary feilds to be able to apply machine learning to the dataset:"
   ]
  },
  {
   "cell_type": "code",
   "execution_count": 12,
   "id": "6d1c69b6",
   "metadata": {},
   "outputs": [],
   "source": [
    "ohe = OneHotEncoder()\n",
    "fa = ohe.fit_transform(df[['Gender','Geography','Card Type']]).toarray()\n",
    "fl = np.concatenate(ohe.categories_)\n",
    "features= pd.DataFrame(fa, columns=fl)"
   ]
  },
  {
   "cell_type": "code",
   "execution_count": 13,
   "id": "caf7a567",
   "metadata": {},
   "outputs": [],
   "source": [
    "dataset = pd.concat([df,features], axis =1)\n",
    "dataset = dataset.drop(['CustomerId','Gender','Geography','Card Type', 'Exited'], axis=1)\n",
    "Exited = df['Exited']\n",
    "dataset_= df.drop(['CustomerId','Gender','Geography','Card Type'], axis=1)"
   ]
  },
  {
   "cell_type": "markdown",
   "id": "a9b76d0c",
   "metadata": {},
   "source": [
    "I have made two datasets, with and without the catigorical data. Now, I will utilise a Kmean clustering to try to group similar clients. This could help the bank maintain different types of clients."
   ]
  },
  {
   "cell_type": "code",
   "execution_count": 14,
   "id": "18bf337d",
   "metadata": {
    "scrolled": false
   },
   "outputs": [
    {
     "name": "stderr",
     "output_type": "stream",
     "text": [
      "C:\\Users\\Admin\\anaconda3\\Lib\\site-packages\\sklearn\\cluster\\_kmeans.py:1412: FutureWarning: The default value of `n_init` will change from 10 to 'auto' in 1.4. Set the value of `n_init` explicitly to suppress the warning\n",
      "  super()._check_params_vs_input(X, default_n_init=10)\n",
      "C:\\Users\\Admin\\anaconda3\\Lib\\site-packages\\sklearn\\cluster\\_kmeans.py:1412: FutureWarning: The default value of `n_init` will change from 10 to 'auto' in 1.4. Set the value of `n_init` explicitly to suppress the warning\n",
      "  super()._check_params_vs_input(X, default_n_init=10)\n",
      "C:\\Users\\Admin\\anaconda3\\Lib\\site-packages\\sklearn\\cluster\\_kmeans.py:1412: FutureWarning: The default value of `n_init` will change from 10 to 'auto' in 1.4. Set the value of `n_init` explicitly to suppress the warning\n",
      "  super()._check_params_vs_input(X, default_n_init=10)\n",
      "C:\\Users\\Admin\\anaconda3\\Lib\\site-packages\\sklearn\\cluster\\_kmeans.py:1412: FutureWarning: The default value of `n_init` will change from 10 to 'auto' in 1.4. Set the value of `n_init` explicitly to suppress the warning\n",
      "  super()._check_params_vs_input(X, default_n_init=10)\n",
      "C:\\Users\\Admin\\anaconda3\\Lib\\site-packages\\sklearn\\cluster\\_kmeans.py:1412: FutureWarning: The default value of `n_init` will change from 10 to 'auto' in 1.4. Set the value of `n_init` explicitly to suppress the warning\n",
      "  super()._check_params_vs_input(X, default_n_init=10)\n",
      "C:\\Users\\Admin\\anaconda3\\Lib\\site-packages\\sklearn\\cluster\\_kmeans.py:1412: FutureWarning: The default value of `n_init` will change from 10 to 'auto' in 1.4. Set the value of `n_init` explicitly to suppress the warning\n",
      "  super()._check_params_vs_input(X, default_n_init=10)\n",
      "C:\\Users\\Admin\\anaconda3\\Lib\\site-packages\\sklearn\\cluster\\_kmeans.py:1412: FutureWarning: The default value of `n_init` will change from 10 to 'auto' in 1.4. Set the value of `n_init` explicitly to suppress the warning\n",
      "  super()._check_params_vs_input(X, default_n_init=10)\n",
      "C:\\Users\\Admin\\anaconda3\\Lib\\site-packages\\sklearn\\cluster\\_kmeans.py:1412: FutureWarning: The default value of `n_init` will change from 10 to 'auto' in 1.4. Set the value of `n_init` explicitly to suppress the warning\n",
      "  super()._check_params_vs_input(X, default_n_init=10)\n",
      "C:\\Users\\Admin\\anaconda3\\Lib\\site-packages\\sklearn\\cluster\\_kmeans.py:1412: FutureWarning: The default value of `n_init` will change from 10 to 'auto' in 1.4. Set the value of `n_init` explicitly to suppress the warning\n",
      "  super()._check_params_vs_input(X, default_n_init=10)\n",
      "C:\\Users\\Admin\\anaconda3\\Lib\\site-packages\\sklearn\\cluster\\_kmeans.py:1412: FutureWarning: The default value of `n_init` will change from 10 to 'auto' in 1.4. Set the value of `n_init` explicitly to suppress the warning\n",
      "  super()._check_params_vs_input(X, default_n_init=10)\n"
     ]
    }
   ],
   "source": [
    "inertias = []\n",
    "\n",
    "for i in range(1,11):\n",
    "    kmeans = KMeans(n_clusters=i)\n",
    "    kmeans.fit(dataset_)\n",
    "    inertias.append(kmeans.inertia_)"
   ]
  },
  {
   "cell_type": "code",
   "execution_count": 15,
   "id": "73734992",
   "metadata": {},
   "outputs": [
    {
     "data": {
      "image/png": "[encoded data removed]",
      "text/plain": [
       "<Figure size 640x480 with 1 Axes>"
      ]
     },
     "metadata": {},
     "output_type": "display_data"
    }
   ],
   "source": [
    "plt.plot(range(1,11), inertias, marker='o')\n",
    "plt.title('Elbow method')\n",
    "plt.xlabel('Number of clusters')\n",
    "plt.ylabel('Inertia')\n",
    "plt.show()"
   ]
  },
  {
   "cell_type": "markdown",
   "id": "e29f520e",
   "metadata": {},
   "source": [
    "It seems like 4 is a fair number of clusters. We will split our data based on it, and save it for further analysis to find similarities between them."
   ]
  },
  {
   "cell_type": "code",
   "execution_count": 16,
   "id": "a933c4b4",
   "metadata": {},
   "outputs": [
    {
     "name": "stderr",
     "output_type": "stream",
     "text": [
      "C:\\Users\\Admin\\anaconda3\\Lib\\site-packages\\sklearn\\cluster\\_kmeans.py:1412: FutureWarning: The default value of `n_init` will change from 10 to 'auto' in 1.4. Set the value of `n_init` explicitly to suppress the warning\n",
      "  super()._check_params_vs_input(X, default_n_init=10)\n"
     ]
    }
   ],
   "source": [
    "kmeans = KMeans(n_clusters=4)\n",
    "kmeans.fit(dataset_)\n",
    "df['Class']=kmeans.labels_\n",
    "dataset_['Class']=kmeans.labels_"
   ]
  },
  {
   "cell_type": "code",
   "execution_count": 17,
   "id": "051c175e",
   "metadata": {},
   "outputs": [
    {
     "data": {
      "text/html": [
       "<div>\n",
       "<style scoped>\n",
       "    .dataframe tbody tr th:only-of-type {\n",
       "        vertical-align: middle;\n",
       "    }\n",
       "\n",
       "    .dataframe tbody tr th {\n",
       "        vertical-align: top;\n",
       "    }\n",
       "\n",
       "    .dataframe thead th {\n",
       "        text-align: right;\n",
       "    }\n",
       "</style>\n",
       "<table border=\"1\" class=\"dataframe\">\n",
       "  <thead>\n",
       "    <tr style=\"text-align: right;\">\n",
       "      <th></th>\n",
       "      <th>CreditScore</th>\n",
       "      <th>Age</th>\n",
       "      <th>Tenure</th>\n",
       "      <th>Balance</th>\n",
       "      <th>NumOfProducts</th>\n",
       "      <th>HasCrCard</th>\n",
       "      <th>IsActiveMember</th>\n",
       "      <th>EstimatedSalary</th>\n",
       "      <th>Exited</th>\n",
       "      <th>Complain</th>\n",
       "      <th>Satisfaction Score</th>\n",
       "      <th>Point Earned</th>\n",
       "    </tr>\n",
       "    <tr>\n",
       "      <th>Class</th>\n",
       "      <th></th>\n",
       "      <th></th>\n",
       "      <th></th>\n",
       "      <th></th>\n",
       "      <th></th>\n",
       "      <th></th>\n",
       "      <th></th>\n",
       "      <th></th>\n",
       "      <th></th>\n",
       "      <th></th>\n",
       "      <th></th>\n",
       "      <th></th>\n",
       "    </tr>\n",
       "  </thead>\n",
       "  <tbody>\n",
       "    <tr>\n",
       "      <th>0</th>\n",
       "      <td>650.828489</td>\n",
       "      <td>38.988183</td>\n",
       "      <td>5.002555</td>\n",
       "      <td>121953.442609</td>\n",
       "      <td>1.402108</td>\n",
       "      <td>0.694666</td>\n",
       "      <td>0.512935</td>\n",
       "      <td>149744.909055</td>\n",
       "      <td>0.243373</td>\n",
       "      <td>0.244970</td>\n",
       "      <td>2.998084</td>\n",
       "      <td>611.972852</td>\n",
       "    </tr>\n",
       "    <tr>\n",
       "      <th>1</th>\n",
       "      <td>651.626549</td>\n",
       "      <td>39.405414</td>\n",
       "      <td>4.961840</td>\n",
       "      <td>121880.264804</td>\n",
       "      <td>1.367906</td>\n",
       "      <td>0.699935</td>\n",
       "      <td>0.513699</td>\n",
       "      <td>50472.479997</td>\n",
       "      <td>0.237443</td>\n",
       "      <td>0.237769</td>\n",
       "      <td>3.037182</td>\n",
       "      <td>605.710372</td>\n",
       "    </tr>\n",
       "    <tr>\n",
       "      <th>2</th>\n",
       "      <td>648.706504</td>\n",
       "      <td>38.423057</td>\n",
       "      <td>5.069804</td>\n",
       "      <td>2619.445812</td>\n",
       "      <td>1.762031</td>\n",
       "      <td>0.709677</td>\n",
       "      <td>0.510841</td>\n",
       "      <td>149222.657758</td>\n",
       "      <td>0.149656</td>\n",
       "      <td>0.149127</td>\n",
       "      <td>2.993654</td>\n",
       "      <td>597.984135</td>\n",
       "    </tr>\n",
       "    <tr>\n",
       "      <th>3</th>\n",
       "      <td>650.080021</td>\n",
       "      <td>38.530858</td>\n",
       "      <td>5.054916</td>\n",
       "      <td>2293.096313</td>\n",
       "      <td>1.770921</td>\n",
       "      <td>0.728033</td>\n",
       "      <td>0.525105</td>\n",
       "      <td>49750.219179</td>\n",
       "      <td>0.138598</td>\n",
       "      <td>0.139121</td>\n",
       "      <td>3.021967</td>\n",
       "      <td>607.305439</td>\n",
       "    </tr>\n",
       "  </tbody>\n",
       "</table>\n",
       "</div>"
      ],
      "text/plain": [
       "       CreditScore        Age    Tenure        Balance  NumOfProducts   \n",
       "Class                                                                   \n",
       "0       650.828489  38.988183  5.002555  121953.442609       1.402108  \\\n",
       "1       651.626549  39.405414  4.961840  121880.264804       1.367906   \n",
       "2       648.706504  38.423057  5.069804    2619.445812       1.762031   \n",
       "3       650.080021  38.530858  5.054916    2293.096313       1.770921   \n",
       "\n",
       "       HasCrCard  IsActiveMember  EstimatedSalary    Exited  Complain   \n",
       "Class                                                                   \n",
       "0       0.694666        0.512935    149744.909055  0.243373  0.244970  \\\n",
       "1       0.699935        0.513699     50472.479997  0.237443  0.237769   \n",
       "2       0.709677        0.510841    149222.657758  0.149656  0.149127   \n",
       "3       0.728033        0.525105     49750.219179  0.138598  0.139121   \n",
       "\n",
       "       Satisfaction Score  Point Earned  \n",
       "Class                                    \n",
       "0                2.998084    611.972852  \n",
       "1                3.037182    605.710372  \n",
       "2                2.993654    597.984135  \n",
       "3                3.021967    607.305439  "
      ]
     },
     "execution_count": 17,
     "metadata": {},
     "output_type": "execute_result"
    }
   ],
   "source": [
    "dataset_.groupby('Class').mean()"
   ]
  },
  {
   "cell_type": "markdown",
   "id": "e39734c7",
   "metadata": {},
   "source": [
    "Seems like the algorithm only grouped them by balance, number of productsm and estimated salary, since the rest is almost identical in values between all the classes. Lets look a bit closer at that."
   ]
  },
  {
   "cell_type": "code",
   "execution_count": 18,
   "id": "81f0f224",
   "metadata": {},
   "outputs": [
    {
     "data": {
      "text/html": [
       "<div>\n",
       "<style scoped>\n",
       "    .dataframe tbody tr th:only-of-type {\n",
       "        vertical-align: middle;\n",
       "    }\n",
       "\n",
       "    .dataframe tbody tr th {\n",
       "        vertical-align: top;\n",
       "    }\n",
       "\n",
       "    .dataframe thead th {\n",
       "        text-align: right;\n",
       "    }\n",
       "</style>\n",
       "<table border=\"1\" class=\"dataframe\">\n",
       "  <thead>\n",
       "    <tr style=\"text-align: right;\">\n",
       "      <th></th>\n",
       "      <th>Balance</th>\n",
       "      <th>EstimatedSalary</th>\n",
       "      <th>NumOfProducts</th>\n",
       "      <th>ChurnRate</th>\n",
       "    </tr>\n",
       "    <tr>\n",
       "      <th>Class</th>\n",
       "      <th></th>\n",
       "      <th></th>\n",
       "      <th></th>\n",
       "      <th></th>\n",
       "    </tr>\n",
       "  </thead>\n",
       "  <tbody>\n",
       "    <tr>\n",
       "      <th>0</th>\n",
       "      <td>121953.442609</td>\n",
       "      <td>149744.909055</td>\n",
       "      <td>1.0</td>\n",
       "      <td>24.3</td>\n",
       "    </tr>\n",
       "    <tr>\n",
       "      <th>1</th>\n",
       "      <td>121880.264804</td>\n",
       "      <td>50472.479997</td>\n",
       "      <td>1.0</td>\n",
       "      <td>23.7</td>\n",
       "    </tr>\n",
       "    <tr>\n",
       "      <th>2</th>\n",
       "      <td>2619.445812</td>\n",
       "      <td>149222.657758</td>\n",
       "      <td>2.0</td>\n",
       "      <td>15.0</td>\n",
       "    </tr>\n",
       "    <tr>\n",
       "      <th>3</th>\n",
       "      <td>2293.096313</td>\n",
       "      <td>49750.219179</td>\n",
       "      <td>2.0</td>\n",
       "      <td>13.9</td>\n",
       "    </tr>\n",
       "  </tbody>\n",
       "</table>\n",
       "</div>"
      ],
      "text/plain": [
       "             Balance  EstimatedSalary  NumOfProducts  ChurnRate\n",
       "Class                                                          \n",
       "0      121953.442609    149744.909055            1.0       24.3\n",
       "1      121880.264804     50472.479997            1.0       23.7\n",
       "2        2619.445812    149222.657758            2.0       15.0\n",
       "3        2293.096313     49750.219179            2.0       13.9"
      ]
     },
     "execution_count": 18,
     "metadata": {},
     "output_type": "execute_result"
    }
   ],
   "source": [
    "s = (round(dataset_[['Class','Exited']].groupby('Class').sum()['Exited']/dataset_['Class'].value_counts(),3)*100)\n",
    "s.name =\"ChurnRate\"\n",
    "pd.concat([dataset_[['Class', 'Balance','EstimatedSalary']].groupby('Class').mean(),\n",
    "           dataset_[['Class', 'NumOfProducts']].groupby('Class').median(),\n",
    "          s], axis=1)\n"
   ]
  },
  {
   "cell_type": "markdown",
   "id": "50929044",
   "metadata": {},
   "source": [
    "It seems like people with a higher balance seem to face more problems in their accounts. That would explain the higher complain and churn rate."
   ]
  },
  {
   "cell_type": "markdown",
   "id": "a30347b6",
   "metadata": {},
   "source": [
    "## Act:"
   ]
  },
  {
   "cell_type": "markdown",
   "id": "56f379fa",
   "metadata": {},
   "source": [
    "In the act phase, I create an assisting tool which I think would be useful to stakeholders to figure out which clients are likely to leave the company and take action before losing our clients. The tool will be a neural network trained on historical data and built to predict the likelyhood of a client leaving the bank."
   ]
  },
  {
   "cell_type": "code",
   "execution_count": 19,
   "id": "4af9b27c",
   "metadata": {},
   "outputs": [
    {
     "name": "stdout",
     "output_type": "stream",
     "text": [
      "<class 'pandas.core.frame.DataFrame'>\n",
      "RangeIndex: 10000 entries, 0 to 9999\n",
      "Data columns (total 20 columns):\n",
      " #   Column              Non-Null Count  Dtype  \n",
      "---  ------              --------------  -----  \n",
      " 0   CreditScore         10000 non-null  int64  \n",
      " 1   Age                 10000 non-null  int64  \n",
      " 2   Tenure              10000 non-null  int64  \n",
      " 3   Balance             10000 non-null  float64\n",
      " 4   NumOfProducts       10000 non-null  int64  \n",
      " 5   HasCrCard           10000 non-null  int64  \n",
      " 6   IsActiveMember      10000 non-null  int64  \n",
      " 7   EstimatedSalary     10000 non-null  float64\n",
      " 8   Complain            10000 non-null  int64  \n",
      " 9   Satisfaction Score  10000 non-null  int64  \n",
      " 10  Point Earned        10000 non-null  int64  \n",
      " 11  Female              10000 non-null  float64\n",
      " 12  Male                10000 non-null  float64\n",
      " 13  France              10000 non-null  float64\n",
      " 14  Germany             10000 non-null  float64\n",
      " 15  Spain               10000 non-null  float64\n",
      " 16  DIAMOND             10000 non-null  float64\n",
      " 17  GOLD                10000 non-null  float64\n",
      " 18  PLATINUM            10000 non-null  float64\n",
      " 19  SILVER              10000 non-null  float64\n",
      "dtypes: float64(11), int64(9)\n",
      "memory usage: 1.5 MB\n"
     ]
    }
   ],
   "source": [
    "dataset.info()"
   ]
  },
  {
   "cell_type": "code",
   "execution_count": 20,
   "id": "d6e3e258",
   "metadata": {},
   "outputs": [],
   "source": [
    "# Normalisation of the data\n",
    "dataset[['CreditScore', 'Age', 'Tenure', 'Balance', 'NumOfProducts',\n",
    "         'EstimatedSalary', 'Satisfaction Score']] = normalize(dataset[['CreditScore', 'Age', 'Tenure', 'Balance',\n",
    "                                                                        'NumOfProducts','EstimatedSalary', 'Satisfaction Score']])\n",
    "# Splitting data to training and testing sets\n",
    "X_train, X_test, y_train, y_test = train_test_split(dataset, Exited, test_size=0.33)"
   ]
  },
  {
   "cell_type": "code",
   "execution_count": 21,
   "id": "2b13226f",
   "metadata": {},
   "outputs": [],
   "source": [
    "model = Sequential(\n",
    "    [               \n",
    "        tf.keras.Input(shape=(20,)),\n",
    "        Dense(50, activation='relu'),\n",
    "        Dense(25, activation='relu'),\n",
    "        Dense(15, activation='relu'),\n",
    "        Dense(10, activation='relu'),\n",
    "        Dense(1, activation='sigmoid')\n",
    "        \n",
    "    ]\n",
    ")"
   ]
  },
  {
   "cell_type": "code",
   "execution_count": 22,
   "id": "2c10aa7e",
   "metadata": {
    "scrolled": true
   },
   "outputs": [
    {
     "name": "stdout",
     "output_type": "stream",
     "text": [
      "Epoch 1/50\n",
      "\u001b[1m210/210\u001b[0m \u001b[32m━━━━━━━━━━━━━━━━━━━━\u001b[0m\u001b[37m\u001b[0m \u001b[1m1s\u001b[0m 668us/step - loss: 2.3240\n",
      "Epoch 2/50\n",
      "\u001b[1m210/210\u001b[0m \u001b[32m━━━━━━━━━━━━━━━━━━━━\u001b[0m\u001b[37m\u001b[0m \u001b[1m0s\u001b[0m 624us/step - loss: 0.5325\n",
      "Epoch 3/50\n",
      "\u001b[1m210/210\u001b[0m \u001b[32m━━━━━━━━━━━━━━━━━━━━\u001b[0m\u001b[37m\u001b[0m \u001b[1m0s\u001b[0m 623us/step - loss: 0.5151\n",
      "Epoch 4/50\n",
      "\u001b[1m210/210\u001b[0m \u001b[32m━━━━━━━━━━━━━━━━━━━━\u001b[0m\u001b[37m\u001b[0m \u001b[1m0s\u001b[0m 604us/step - loss: 0.5140\n",
      "Epoch 5/50\n",
      "\u001b[1m210/210\u001b[0m \u001b[32m━━━━━━━━━━━━━━━━━━━━\u001b[0m\u001b[37m\u001b[0m \u001b[1m0s\u001b[0m 603us/step - loss: 0.5188\n",
      "Epoch 6/50\n",
      "\u001b[1m210/210\u001b[0m \u001b[32m━━━━━━━━━━━━━━━━━━━━\u001b[0m\u001b[37m\u001b[0m \u001b[1m0s\u001b[0m 617us/step - loss: 0.5063\n",
      "Epoch 7/50\n",
      "\u001b[1m210/210\u001b[0m \u001b[32m━━━━━━━━━━━━━━━━━━━━\u001b[0m\u001b[37m\u001b[0m \u001b[1m0s\u001b[0m 616us/step - loss: 0.4951\n",
      "Epoch 8/50\n",
      "\u001b[1m210/210\u001b[0m \u001b[32m━━━━━━━━━━━━━━━━━━━━\u001b[0m\u001b[37m\u001b[0m \u001b[1m0s\u001b[0m 628us/step - loss: 0.4907\n",
      "Epoch 9/50\n",
      "\u001b[1m210/210\u001b[0m \u001b[32m━━━━━━━━━━━━━━━━━━━━\u001b[0m\u001b[37m\u001b[0m \u001b[1m0s\u001b[0m 598us/step - loss: 0.4901\n",
      "Epoch 10/50\n",
      "\u001b[1m210/210\u001b[0m \u001b[32m━━━━━━━━━━━━━━━━━━━━\u001b[0m\u001b[37m\u001b[0m \u001b[1m0s\u001b[0m 630us/step - loss: 0.4725\n",
      "Epoch 11/50\n",
      "\u001b[1m210/210\u001b[0m \u001b[32m━━━━━━━━━━━━━━━━━━━━\u001b[0m\u001b[37m\u001b[0m \u001b[1m0s\u001b[0m 641us/step - loss: 0.4250\n",
      "Epoch 12/50\n",
      "\u001b[1m210/210\u001b[0m \u001b[32m━━━━━━━━━━━━━━━━━━━━\u001b[0m\u001b[37m\u001b[0m \u001b[1m0s\u001b[0m 645us/step - loss: 0.3503\n",
      "Epoch 13/50\n",
      "\u001b[1m210/210\u001b[0m \u001b[32m━━━━━━━━━━━━━━━━━━━━\u001b[0m\u001b[37m\u001b[0m \u001b[1m0s\u001b[0m 629us/step - loss: 0.2783\n",
      "Epoch 14/50\n",
      "\u001b[1m210/210\u001b[0m \u001b[32m━━━━━━━━━━━━━━━━━━━━\u001b[0m\u001b[37m\u001b[0m \u001b[1m0s\u001b[0m 632us/step - loss: 0.1605\n",
      "Epoch 15/50\n",
      "\u001b[1m210/210\u001b[0m \u001b[32m━━━━━━━━━━━━━━━━━━━━\u001b[0m\u001b[37m\u001b[0m \u001b[1m0s\u001b[0m 627us/step - loss: 0.0308\n",
      "Epoch 16/50\n",
      "\u001b[1m210/210\u001b[0m \u001b[32m━━━━━━━━━━━━━━━━━━━━\u001b[0m\u001b[37m\u001b[0m \u001b[1m0s\u001b[0m 621us/step - loss: 0.0183\n",
      "Epoch 17/50\n",
      "\u001b[1m210/210\u001b[0m \u001b[32m━━━━━━━━━━━━━━━━━━━━\u001b[0m\u001b[37m\u001b[0m \u001b[1m0s\u001b[0m 632us/step - loss: 0.0247\n",
      "Epoch 18/50\n",
      "\u001b[1m210/210\u001b[0m \u001b[32m━━━━━━━━━━━━━━━━━━━━\u001b[0m\u001b[37m\u001b[0m \u001b[1m0s\u001b[0m 619us/step - loss: 0.0122\n",
      "Epoch 19/50\n",
      "\u001b[1m210/210\u001b[0m \u001b[32m━━━━━━━━━━━━━━━━━━━━\u001b[0m\u001b[37m\u001b[0m \u001b[1m0s\u001b[0m 627us/step - loss: 0.0113\n",
      "Epoch 20/50\n",
      "\u001b[1m210/210\u001b[0m \u001b[32m━━━━━━━━━━━━━━━━━━━━\u001b[0m\u001b[37m\u001b[0m \u001b[1m0s\u001b[0m 628us/step - loss: 0.0128\n",
      "Epoch 21/50\n",
      "\u001b[1m210/210\u001b[0m \u001b[32m━━━━━━━━━━━━━━━━━━━━\u001b[0m\u001b[37m\u001b[0m \u001b[1m0s\u001b[0m 635us/step - loss: 0.0260\n",
      "Epoch 22/50\n",
      "\u001b[1m210/210\u001b[0m \u001b[32m━━━━━━━━━━━━━━━━━━━━\u001b[0m\u001b[37m\u001b[0m \u001b[1m0s\u001b[0m 628us/step - loss: 0.0061\n",
      "Epoch 23/50\n",
      "\u001b[1m210/210\u001b[0m \u001b[32m━━━━━━━━━━━━━━━━━━━━\u001b[0m\u001b[37m\u001b[0m \u001b[1m0s\u001b[0m 618us/step - loss: 0.0103\n",
      "Epoch 24/50\n",
      "\u001b[1m210/210\u001b[0m \u001b[32m━━━━━━━━━━━━━━━━━━━━\u001b[0m\u001b[37m\u001b[0m \u001b[1m0s\u001b[0m 622us/step - loss: 0.0178\n",
      "Epoch 25/50\n",
      "\u001b[1m210/210\u001b[0m \u001b[32m━━━━━━━━━━━━━━━━━━━━\u001b[0m\u001b[37m\u001b[0m \u001b[1m0s\u001b[0m 707us/step - loss: 0.0376\n",
      "Epoch 26/50\n",
      "\u001b[1m210/210\u001b[0m \u001b[32m━━━━━━━━━━━━━━━━━━━━\u001b[0m\u001b[37m\u001b[0m \u001b[1m0s\u001b[0m 665us/step - loss: 0.0084\n",
      "Epoch 27/50\n",
      "\u001b[1m210/210\u001b[0m \u001b[32m━━━━━━━━━━━━━━━━━━━━\u001b[0m\u001b[37m\u001b[0m \u001b[1m0s\u001b[0m 626us/step - loss: 0.0126 \n",
      "Epoch 28/50\n",
      "\u001b[1m210/210\u001b[0m \u001b[32m━━━━━━━━━━━━━━━━━━━━\u001b[0m\u001b[37m\u001b[0m \u001b[1m0s\u001b[0m 646us/step - loss: 0.0143\n",
      "Epoch 29/50\n",
      "\u001b[1m210/210\u001b[0m \u001b[32m━━━━━━━━━━━━━━━━━━━━\u001b[0m\u001b[37m\u001b[0m \u001b[1m0s\u001b[0m 612us/step - loss: 0.0100\n",
      "Epoch 30/50\n",
      "\u001b[1m210/210\u001b[0m \u001b[32m━━━━━━━━━━━━━━━━━━━━\u001b[0m\u001b[37m\u001b[0m \u001b[1m0s\u001b[0m 627us/step - loss: 0.0168\n",
      "Epoch 31/50\n",
      "\u001b[1m210/210\u001b[0m \u001b[32m━━━━━━━━━━━━━━━━━━━━\u001b[0m\u001b[37m\u001b[0m \u001b[1m0s\u001b[0m 630us/step - loss: 0.0119\n",
      "Epoch 32/50\n",
      "\u001b[1m210/210\u001b[0m \u001b[32m━━━━━━━━━━━━━━━━━━━━\u001b[0m\u001b[37m\u001b[0m \u001b[1m0s\u001b[0m 590us/step - loss: 0.0209\n",
      "Epoch 33/50\n",
      "\u001b[1m210/210\u001b[0m \u001b[32m━━━━━━━━━━━━━━━━━━━━\u001b[0m\u001b[37m\u001b[0m \u001b[1m0s\u001b[0m 629us/step - loss: 0.0195\n",
      "Epoch 34/50\n",
      "\u001b[1m210/210\u001b[0m \u001b[32m━━━━━━━━━━━━━━━━━━━━\u001b[0m\u001b[37m\u001b[0m \u001b[1m0s\u001b[0m 653us/step - loss: 0.0149\n",
      "Epoch 35/50\n",
      "\u001b[1m210/210\u001b[0m \u001b[32m━━━━━━━━━━━━━━━━━━━━\u001b[0m\u001b[37m\u001b[0m \u001b[1m0s\u001b[0m 623us/step - loss: 0.0142 \n",
      "Epoch 36/50\n",
      "\u001b[1m210/210\u001b[0m \u001b[32m━━━━━━━━━━━━━━━━━━━━\u001b[0m\u001b[37m\u001b[0m \u001b[1m0s\u001b[0m 632us/step - loss: 0.0149 \n",
      "Epoch 37/50\n",
      "\u001b[1m210/210\u001b[0m \u001b[32m━━━━━━━━━━━━━━━━━━━━\u001b[0m\u001b[37m\u001b[0m \u001b[1m0s\u001b[0m 617us/step - loss: 0.0153\n",
      "Epoch 38/50\n",
      "\u001b[1m210/210\u001b[0m \u001b[32m━━━━━━━━━━━━━━━━━━━━\u001b[0m\u001b[37m\u001b[0m \u001b[1m0s\u001b[0m 632us/step - loss: 0.0176\n",
      "Epoch 39/50\n",
      "\u001b[1m210/210\u001b[0m \u001b[32m━━━━━━━━━━━━━━━━━━━━\u001b[0m\u001b[37m\u001b[0m \u001b[1m0s\u001b[0m 596us/step - loss: 0.0087 \n",
      "Epoch 40/50\n",
      "\u001b[1m210/210\u001b[0m \u001b[32m━━━━━━━━━━━━━━━━━━━━\u001b[0m\u001b[37m\u001b[0m \u001b[1m0s\u001b[0m 635us/step - loss: 0.0692\n",
      "Epoch 41/50\n",
      "\u001b[1m210/210\u001b[0m \u001b[32m━━━━━━━━━━━━━━━━━━━━\u001b[0m\u001b[37m\u001b[0m \u001b[1m0s\u001b[0m 636us/step - loss: 0.0081\n",
      "Epoch 42/50\n",
      "\u001b[1m210/210\u001b[0m \u001b[32m━━━━━━━━━━━━━━━━━━━━\u001b[0m\u001b[37m\u001b[0m \u001b[1m0s\u001b[0m 639us/step - loss: 0.0108\n",
      "Epoch 43/50\n",
      "\u001b[1m210/210\u001b[0m \u001b[32m━━━━━━━━━━━━━━━━━━━━\u001b[0m\u001b[37m\u001b[0m \u001b[1m0s\u001b[0m 624us/step - loss: 0.0127\n",
      "Epoch 44/50\n",
      "\u001b[1m210/210\u001b[0m \u001b[32m━━━━━━━━━━━━━━━━━━━━\u001b[0m\u001b[37m\u001b[0m \u001b[1m0s\u001b[0m 612us/step - loss: 0.0131\n",
      "Epoch 45/50\n",
      "\u001b[1m210/210\u001b[0m \u001b[32m━━━━━━━━━━━━━━━━━━━━\u001b[0m\u001b[37m\u001b[0m \u001b[1m0s\u001b[0m 660us/step - loss: 0.0137 \n",
      "Epoch 46/50\n",
      "\u001b[1m210/210\u001b[0m \u001b[32m━━━━━━━━━━━━━━━━━━━━\u001b[0m\u001b[37m\u001b[0m \u001b[1m0s\u001b[0m 632us/step - loss: 0.0165\n",
      "Epoch 47/50\n",
      "\u001b[1m210/210\u001b[0m \u001b[32m━━━━━━━━━━━━━━━━━━━━\u001b[0m\u001b[37m\u001b[0m \u001b[1m0s\u001b[0m 654us/step - loss: 0.0091\n",
      "Epoch 48/50\n",
      "\u001b[1m210/210\u001b[0m \u001b[32m━━━━━━━━━━━━━━━━━━━━\u001b[0m\u001b[37m\u001b[0m \u001b[1m0s\u001b[0m 708us/step - loss: 0.0169\n",
      "Epoch 49/50\n",
      "\u001b[1m210/210\u001b[0m \u001b[32m━━━━━━━━━━━━━━━━━━━━\u001b[0m\u001b[37m\u001b[0m \u001b[1m0s\u001b[0m 701us/step - loss: 0.0187\n",
      "Epoch 50/50\n",
      "\u001b[1m210/210\u001b[0m \u001b[32m━━━━━━━━━━━━━━━━━━━━\u001b[0m\u001b[37m\u001b[0m \u001b[1m0s\u001b[0m 698us/step - loss: 0.0061\n"
     ]
    }
   ],
   "source": [
    "model.compile(\n",
    "    loss=tf.keras.losses.BinaryCrossentropy(),\n",
    "    optimizer=tf.keras.optimizers.Adam(learning_rate=0.001),\n",
    ")\n",
    "\n",
    "history = model.fit(\n",
    "    X_train,y_train,\n",
    "    epochs=50\n",
    ")"
   ]
  },
  {
   "cell_type": "code",
   "execution_count": 23,
   "id": "31da46a6",
   "metadata": {},
   "outputs": [
    {
     "name": "stdout",
     "output_type": "stream",
     "text": [
      "\u001b[1m104/104\u001b[0m \u001b[32m━━━━━━━━━━━━━━━━━━━━\u001b[0m\u001b[37m\u001b[0m \u001b[1m0s\u001b[0m 996us/step\n",
      "Our Model is 99.9 % accurate.\n"
     ]
    }
   ],
   "source": [
    "predictions= model.predict(X_test)\n",
    "predictions= pd.Series(np.round(predictions)[:,0])\n",
    "y_test.reset_index(drop=True, inplace=True)\n",
    "print(\"Our Model is\", round((predictions==y_test).sum()/y_test.shape[0],3)*100, \"% accurate.\")"
   ]
  },
  {
   "cell_type": "markdown",
   "id": "3e8b3cb7",
   "metadata": {},
   "source": [
    "Now, the network has been trained and is ready to predict our data for use in customer attrition prevention."
   ]
  }
 ],
 "metadata": {
  "kernelspec": {
   "display_name": "Python 3 (ipykernel)",
   "language": "python",
   "name": "python3"
  },
  "language_info": {
   "codemirror_mode": {
    "name": "ipython",
    "version": 3
   },
   "file_extension": ".py",
   "mimetype": "text/x-python",
   "name": "python",
   "nbconvert_exporter": "python",
   "pygments_lexer": "ipython3",
   "version": "3.11.5"
  }
 },
 "nbformat": 4,
 "nbformat_minor": 5
}
